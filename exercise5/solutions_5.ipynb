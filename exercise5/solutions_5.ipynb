{
 "cells": [
  {
   "cell_type": "markdown",
   "metadata": {},
   "source": [
    "# Solutions to Exercise set 5"
   ]
  },
  {
   "cell_type": "markdown",
   "metadata": {},
   "source": [
    "# Problem 1\n",
    "## 1. a)\n",
    "\n",
    "The objective is to minimize a function\n",
    "$$\n",
    "f(x') = \\sum_{i=1}^n (x_i - x')^2.\n",
    "$$\n",
    "Let's first differentiate this function with respect to $x'$:\n",
    "$$\n",
    "f'(x') = -2\\sum_{i=1}^n (x_i - x') = -2\\left(\\sum_{i=1}^n x_i - nx' \\right).\n",
    "$$\n",
    "and then find the critical points of the function by solving where this derivative is zero:\n",
    "$$\n",
    "\\begin{split}\n",
    "f'(x')  &= -2\\left(\\sum_{i=1}^n x_i - nx' \\right) = 0 \\\\\n",
    "x' &= \\frac{1}{n} \\sum_{i=1}^n x_i.\n",
    "\\end{split}\n",
    "$$\n",
    "Type of this critical point can be found by considering the second derivative of $f(\\mathbf{x'})$. Because the second derivative\n",
    "$$\n",
    "f''(x') = 2n\n",
    "$$\n",
    "is always positive, $f(x')$ is a convex function, and so \n",
    "$$\n",
    "x^* = \\frac{1}{n} \\sum_{i=1}^n x_i\n",
    "$$\n",
    "is its global minimum point. This could also be observed without computing the second derivative from the fact that $f(x')$ is a parabola that opens upwards; its only critical point is then its global minimum point.\n",
    "\n"
   ]
  },
  {
   "cell_type": "markdown",
   "metadata": {},
   "source": [
    "## 1. b)\n",
    "\n",
    "Now the function to minimize is \n",
    "$$\n",
    "\\begin{split}\n",
    "f(\\mathbf{x'}) &= \\sum_{i=1}^n ||\\mathbf{x}_i - \\mathbf{x}'||^2_2 = \\sum_{i=1}^n \\sum_{j=1}^p (x_{ij} - x'_j)^2 \\\\\n",
    "&= \\sum_{i=1}^n (x_{i1} - x_1')^2 + \\dots + \\sum_{i=1}^n(x_{ip} - x_p')^2.\n",
    "\\end{split} \n",
    "$$\n",
    "Because the value of $j$:th term of the sum depends only on the $j$:th component of $\\mathbf{x}'$, the  minimum value of this function can be found by minimizing each of the components separately: \n",
    "$$\n",
    "{\\mathbf{x}}^* := \\underset{\\mathbf{x}'}{\\text{argmin}}\\,\\,f(\\mathbf{x}')= \\left(\\underset{x_1'}{\\text{argmin}} \\sum_{i=1}^n (x_{i1} - x_1')^2, \\dots, \\underset{x_p'}{\\text{argmin}} \\sum_{i=1}^n (x_{ip} - x_p')^2 \\right)\n",
    "$$\n",
    "But from the first part of the exercise we observe that this is just\n",
    "$$\n",
    "{\\mathbf{x}}^* = \\left(\\frac{1}{n} \\sum_{i=1}^n x_{i1}, \\dots , \\frac{1}{n} \\sum_{i=1}^n x_{ip} \\right) = \\frac{1}{n} \\sum_{i=1}^n \\mathbf{x}_i.\n",
    "$$"
   ]
  },
  {
   "cell_type": "markdown",
   "metadata": {},
   "source": [
    "# Problem 2\n",
    "## 2. a)\n",
    "Let's simulate hierarchical agglomerative clustering with single linkage by using pen and paper as instructed:\n",
    "![](ex6_2a.png)\n"
   ]
  },
  {
   "cell_type": "markdown",
   "metadata": {},
   "source": [
    "## 2. b)\n",
    "Let's also simulate the clustering with complete linkage:\n",
    "![](ex6_2b.png)"
   ]
  },
  {
   "cell_type": "markdown",
   "metadata": {},
   "source": [
    "# Problem 3\n",
    "## 3. a)\n",
    "\n",
    "First we will implement the Lloyds algorithm for $k$-means (this version is not very highly optimized):"
   ]
  },
  {
   "cell_type": "code",
   "execution_count": 1,
   "metadata": {},
   "outputs": [],
   "source": [
    "# k-means clustering \n",
    "#\n",
    "# X = data set to cluster, row = variable, col = data point (to make things more \n",
    "# interesting, this is other way than normally)\n",
    "# K = number of cluster centeroints\n",
    "# max_iterations = maximum number of iterations before quitting, if the algorithm\n",
    "# does not converge before that.\n",
    "# mu = cluster centerpoints, if not given then allocate data points into K\n",
    "# groups randomly, and use their centers as the initial centerpoints.\n",
    "#\n",
    "# return = list with 2 components:\n",
    "#   mu = cluster centerpoints,\n",
    "#   C = cluster labels for each data point\n",
    "k_means <- function(X, K, mu = NULL, max_iterations = 200) {\n",
    "  n <- ncol(X)\n",
    "  p <- nrow(X)\n",
    "  C <- NULL\n",
    "  C_old <- 0\n",
    "  if(is.null(mu)) {\n",
    "    mu <- matrix(numeric(K * p), nrow = p) # cluster centerpoints\n",
    "    C <- sample(K, n, replace = TRUE)      # allocate points into K clusters randomly\n",
    "  } \n",
    "  \n",
    "  for(j in 1:max_iterations) {\n",
    "    # compute new cluster centerpoints\n",
    "    if(!is.null(C)) {\n",
    "      for(i in 1:K) mu[ ,i] <- rowMeans(X[ ,C == i, drop = FALSE])\n",
    "      C_old <- C\n",
    "    }\n",
    "        \n",
    "    # compute distances to the cluster centerpoints \n",
    "    distances <- matrix(numeric(K * n), nrow = K)\n",
    "    for(i in 1:K) distances[i, ] <- colSums((X - mu[ ,i])^2)\n",
    "    \n",
    "    # update the cluster membership labels for each of the data points.\n",
    "    C <- max.col(-t(distances)) \n",
    "    \n",
    "    # test for convergence \n",
    "    if(identical(C, C_old)) { \n",
    "      cat(\"Converged in\", j, \"iterations.\\n\")\n",
    "      return(list(mu = mu, C = C))\n",
    "    }\n",
    "  }\n",
    "  cat(\"Failed to converge in\", max_iterations, \"iterations\\n\")\n",
    "  list(mu = mu, C = C)\n",
    "}\n"
   ]
  },
  {
   "cell_type": "markdown",
   "metadata": {},
   "source": [
    "Let's generate a data set and test our implementation:"
   ]
  },
  {
   "cell_type": "code",
   "execution_count": 2,
   "metadata": {},
   "outputs": [
    {
     "name": "stdout",
     "output_type": "stream",
     "text": [
      "Converged in 15 iterations.\n",
      "Converged in 4 iterations.\n",
      "Converged in 6 iterations.\n",
      "Converged in 16 iterations.\n"
     ]
    },
    {
     "data": {
      "image/png": "[encoded data removed]",
      "text/plain": [
       "plot without title"
      ]
     },
     "metadata": {},
     "output_type": "display_data"
    }
   ],
   "source": [
    "# generate the data set\n",
    "n <- 100\n",
    "p <- 2\n",
    "X <- matrix(rnorm(p * n), nrow = 2)\n",
    "\n",
    "\n",
    "# test that our implemenation works correctly\n",
    "par(mfrow = c(2,2), mar = c(2,2,4,4))\n",
    "for(i in 1:4) {\n",
    "    km <- k_means(X, 3)\n",
    "    plot(X[1, ], X[2, ], pch = 20, cex = .5, asp = 1, col = km$C+1)\n",
    "    lines(km$mu[1, ], km$mu[2, ], type = 'p', lwd = 4, col = (1:3)+1)\n",
    "}"
   ]
  },
  {
   "cell_type": "markdown",
   "metadata": {},
   "source": [
    "We can observe that the final cluster centerpoints for the converged algorithm are different for most of the runs. This is because the algorithm converges into the different local minimum depending on the random initial values."
   ]
  },
  {
   "cell_type": "markdown",
   "metadata": {},
   "source": [
    "## b)\n",
    "Next we will load the classic MNIST data set consisting of hand-written digits:"
   ]
  },
  {
   "cell_type": "code",
   "execution_count": 3,
   "metadata": {},
   "outputs": [
    {
     "name": "stderr",
     "output_type": "stream",
     "text": [
      "MNIST data set already downloaded.\n"
     ]
    }
   ],
   "source": [
    "# install.packages('R.utils') # for gunzip()\n",
    "\n",
    "base_dir <- 'mnist/'\n",
    "if(!dir.exists(base_dir)) {\n",
    "    message('Downloading MNIST data set...')\n",
    "    dir.create(base_dir)\n",
    "    \n",
    "    base_url <- 'http://yann.lecun.com/exdb/mnist/'\n",
    "    files <- c('train-labels-idx1-ubyte.gz',\n",
    "               'train-images-idx3-ubyte.gz',\n",
    "               't10k-images-idx3-ubyte.gz',\n",
    "               't10k-labels-idx1-ubyte.gz')\n",
    "    for(filename in files) {\n",
    "        full_path = paste0(base_dir, filename)\n",
    "        download.file(paste0(base_url, filename), destfile = full_path)\n",
    "        R.utils::gunzip(full_path)                     \n",
    "    }\n",
    "    \n",
    "    message('Download complete.')\n",
    "} else {\n",
    "    message('MNIST data set already downloaded.')\n",
    "}\n"
   ]
  },
  {
   "cell_type": "markdown",
   "metadata": {},
   "source": [
    "Let's load the downloaded data set and check that everything works correctly by printing the fifth digit:"
   ]
  },
  {
   "cell_type": "code",
   "execution_count": 4,
   "metadata": {},
   "outputs": [
    {
     "data": {
      "image/png": "[encoded data removed]",
      "text/plain": [
       "plot without title"
      ]
     },
     "metadata": {},
     "output_type": "display_data"
    }
   ],
   "source": [
    "source('loadmnist.R')\n",
    "\n",
    "load_mnist()\n",
    "n_train <- 500\n",
    "X <- t(train$x[1:n_train, ])\n",
    "\n",
    "show_digit(X[ ,5])\n",
    "\n"
   ]
  },
  {
   "cell_type": "markdown",
   "metadata": {},
   "source": [
    "Looks kinda something like a digit nine..."
   ]
  },
  {
   "cell_type": "markdown",
   "metadata": {},
   "source": [
    "## 3. c)\n",
    "Okay, now it is a time to test our k-means clustering algorithm with a real data set. Let's initialize the cluster prototypes to the first ten digits, and visualize the results by plotting the cluster prototypes (the leftmost column of the picture) and some example digits (each row represents one cluster) from each of the clusters after the convergence:"
   ]
  },
  {
   "cell_type": "code",
   "execution_count": 5,
   "metadata": {},
   "outputs": [
    {
     "name": "stdout",
     "output_type": "stream",
     "text": [
      "Converged in 16 iterations.\n"
     ]
    },
    {
     "data": {
      "image/png": "[encoded data removed]",
      "text/plain": [
       "plot without title"
      ]
     },
     "metadata": {},
     "output_type": "display_data"
    }
   ],
   "source": [
    "K <- 10\n",
    "p <- nrow(X)\n",
    "mu <- matrix(numeric(p * K), ncol = K)\n",
    "for(i in 1:K) mu[ ,i] <- X[ ,i]\n",
    "\n",
    "km_mnist <- k_means(X, 10, mu = mu)\n",
    "\n",
    "# plot cluster prototypes and example digits\n",
    "n_row <- 6 # number of example digits to print / cluster\n",
    "par(mfrow = c(K, n_row + 1), mar = c(0,0,0,0))\n",
    "for(i in 1:10) {\n",
    "  show_digit(km_mnist$mu[,i], axes = FALSE)\n",
    "  cluster_indices <- (1:ncol(X))[km_mnist$C == i]\n",
    "  for(j in 1:n_row) {\n",
    "    show_digit(X[ ,cluster_indices[j]], axes = FALSE)\n",
    "  }\n",
    "}"
   ]
  },
  {
   "cell_type": "markdown",
   "metadata": {},
   "source": [
    "It seems to actually work! Even though most of the clusters consist of several different digits, there are some very pure clusters, such as the clusters of six and zeros. And even on the mixed clusters the shapes of the digits  resemble each other. Of course we have to remember that this is unupervised learning: the algorithm does not even try to classify digits, but just to cluster them into 10 similar groups.\n"
   ]
  },
  {
   "cell_type": "markdown",
   "metadata": {},
   "source": [
    "Let's see if the result change by setting the initial cluster prototypes to 10 different digits:"
   ]
  },
  {
   "cell_type": "code",
   "execution_count": 6,
   "metadata": {},
   "outputs": [
    {
     "name": "stdout",
     "output_type": "stream",
     "text": [
      "Converged in 6 iterations.\n"
     ]
    },
    {
     "data": {
      "image/png": "[encoded data removed]",
      "text/plain": [
       "plot without title"
      ]
     },
     "metadata": {},
     "output_type": "display_data"
    }
   ],
   "source": [
    "Y <- train$y[1:n_train]\n",
    "\n",
    "# select different digit for each cluster mean\n",
    "mu <- matrix(numeric(p * K), ncol = K)\n",
    "for(i in 1:K) mu[ ,i] <- X[ ,which(Y == (i-1))[1]]\n",
    "\n",
    "km_mnist <- k_means(X, 10, mu = mu)\n",
    "\n",
    "# plot cluster prototypes and example digits\n",
    "n_row <- 6 # number of example digits to print / cluster\n",
    "par(mfrow = c(10, n_row + 1), mar = c(0,0,0,0))\n",
    "for(i in 1:10) {\n",
    "  show_digit(km_mnist$mu[,i], axes = FALSE)\n",
    "  cluster_indices <- (1:ncol(X))[km_mnist$C == i]\n",
    "  for(j in 1:n_row) {\n",
    "    show_digit(X[ ,cluster_indices[j]], axes = FALSE)\n",
    "  }\n",
    "}"
   ]
  },
  {
   "cell_type": "markdown",
   "metadata": {},
   "source": [
    "Now each cluster prototype resembles their initial values. Also the clusters seem to be more pure, and the algorithm converges faster. Although we 'cheated' here little bit by using the true class labels to initialize the cluster prototypes, this demonstrates that k-means is sensitive to the choice of initial values, and that its performance can be improved by choosing good initial values."
   ]
  }
 ],
 "metadata": {
  "kernelspec": {
   "display_name": "R",
   "language": "R",
   "name": "ir"
  },
  "language_info": {
   "codemirror_mode": "r",
   "file_extension": ".r",
   "mimetype": "text/x-r-source",
   "name": "R",
   "pygments_lexer": "r",
   "version": "3.3.1"
  }
 },
 "nbformat": 4,
 "nbformat_minor": 2
}
