{
 "cells": [
  {
   "cell_type": "markdown",
   "metadata": {},
   "source": [
    "# Solutions to Exercises 3"
   ]
  },
  {
   "cell_type": "markdown",
   "metadata": {},
   "source": [
    "# Problem 1"
   ]
  },
  {
   "cell_type": "markdown",
   "metadata": {},
   "source": [
    "## 1. a)"
   ]
  },
  {
   "cell_type": "markdown",
   "metadata": {},
   "source": [
    "\\begin{align*}\n",
    "P(Y = +1 \\mid X_1 = 1, X_2 = 2) &= \\frac{p(X_1 = 1, X_2 = 2 \\mid Y = +1 )P(Y = +1)}{p(X_1 = 1, X_2 = 2)} \\\\\n",
    "&= \\frac{p(X_1 = 1 \\mid Y = +1)p(X_2 = 2 \\mid Y = +1))P(Y = +1)}{p(X_1 = 1, X_2 = 2)},\n",
    "\\end{align*}\n",
    "\n",
    "where\n",
    "\n",
    "$$p(X_1 = 1, X_2 = 2) = p(X_1 = 1, X_2 = 2 \\mid Y = +1 )P(Y = +1) + p(X_1 = 1, X_2 = 2 \\mid Y = -1 )P(Y = -1)$$\n",
    "\n",
    "Since conditional distributions are Gaussian, and they are assumed to have the same mean and variance for given $Y = y$, we can write\n",
    "\n",
    "$$p(X_1 = x \\mid Y = +1) = p(X_2 = x \\mid Y = +1) =  \\mathcal{N}(x \\mid \\hat{\\mu}_{+},\\hat{\\sigma}^2_{+})$$\n",
    "and\n",
    "$$\n",
    "p(X_1 = x \\mid Y = -1) = p(X_2 = x \\mid Y = -1) =  \\mathcal{N}(x \\mid \\hat{\\mu}_{-},\\hat{\\sigma}^2_{-}).\n",
    "$$ \n",
    "\n",
    "Using this and setting $P(Y = -1)= P(Y = +1) = 1/2 $ (which means that the prior probabilities cancel), we have\n",
    "\n",
    "$$\n",
    "\\begin{align*}\n",
    "P(Y = +1 \\mid X_1 = 1, X_2 = 2) &= \\frac{\\mathcal{N}(1 \\mid \\hat{\\mu}_{+},\\hat{\\sigma}^2_{+})\\mathcal{N}(2 \\mid \\hat{\\mu}_{+},\\hat{\\sigma}^2_{+})}{\\mathcal{N}(1 \\mid \\hat{\\mu}_{+},\\hat{\\sigma}^2_{+})\\mathcal{N}(2 \\mid \\hat{\\mu}_{+},\\hat{\\sigma}^2_{+}) + \\mathcal{N}(1 \\mid \\hat{\\mu}_{-},\\hat{\\sigma}^2_{-})\\mathcal{N}(2 \\mid \\hat{\\mu}_{-},\\hat{\\sigma}^2_{-})} \\\\\n",
    "&= \\frac{(\\frac{1}{\\sigma_+} \\,e^{-1/(2\\sigma_+^2)}) \\,(\\frac{1}{\\sigma_+} \\, e^{-2^2/(2\\sigma_+^2)})}\n",
    " {(\\frac{1}{\\sigma_+} \\, e^{-1 / (2\\sigma_{+}^2)})\\,(\\frac{1}{\\sigma_+} \\, e^{-2^2/(2\\sigma_+^2)}) + \n",
    " (\\frac{1}{\\sigma_-} \\, e^{-1/(2\\sigma_-^2)})\\,(\\frac{1}{\\sigma_-} \\, e^{-2^2/(2\\sigma_-^2)})} \\\\\n",
    " &= \\frac{\\frac{1}{\\sigma_+^2} e^{-5/(2\\sigma_+^2)}}{\\frac{1}{\\sigma_+^2} e^{-5/(2\\sigma_+^2)} + \\frac{1}{\\sigma_-^2} e^{-5/(2\\sigma_-^2)}} \\\\\n",
    " &= \\frac{\\frac{1}{16} e^{-5/32}}{\\frac{1}{16} e^{-5/32}+ e^{-5/2}} \\approx 0.3944.\n",
    "\\end{align*}\n",
    "$$"
   ]
  },
  {
   "cell_type": "markdown",
   "metadata": {},
   "source": [
    "## 1. b)"
   ]
  },
  {
   "cell_type": "markdown",
   "metadata": {},
   "source": [
    "The following function evaluates the posterior probability $P(Y = +1 \\mid X_1 = x_1, X_2 = x_2)$"
   ]
  },
  {
   "cell_type": "code",
   "execution_count": 1,
   "metadata": {},
   "outputs": [],
   "source": [
    "# note that the inputs 'sd_plus' and 'sd_minus' are standard deviations, not variances\n",
    "posterior <- function(x, mu_plus = 0, mu_minus = 0, sd_plus = 4, sd_minus = 1) {\n",
    "  joint_plus <- dnorm(x[1], mu_plus, sd_plus) * dnorm(x[2], mu_plus, sd_plus)\n",
    "  joint_minus <- dnorm(x[1], mu_minus, sd_minus) * dnorm(x[2], mu_minus, sd_minus)\n",
    "  return(joint_plus / (joint_plus + joint_minus))  \n",
    "}"
   ]
  },
  {
   "cell_type": "markdown",
   "metadata": {},
   "source": [
    "Next, we create a grid of points and evaluate the posterior probability at each point:"
   ]
  },
  {
   "cell_type": "code",
   "execution_count": 2,
   "metadata": {},
   "outputs": [],
   "source": [
    "# create grid and compute densities for the grid points\n",
    "grid_1d <- seq(-7,7, by = .25) \n",
    "grid_2d <- expand.grid(grid_1d, grid_1d)\n",
    "grid_density1 <- apply(grid_2d, 1, posterior)"
   ]
  },
  {
   "cell_type": "markdown",
   "metadata": {},
   "source": [
    "Visualize the result using 'persp' function:"
   ]
  },
  {
   "cell_type": "code",
   "execution_count": 3,
   "metadata": {},
   "outputs": [
    {
     "data": {
      "image/png": "[encoded data removed]",
      "text/plain": [
       "plot without title"
      ]
     },
     "metadata": {},
     "output_type": "display_data"
    }
   ],
   "source": [
    "grid_matrix <- matrix(grid_density1, nrow = length(grid_1d))\n",
    "persp(grid_1d, grid_1d, grid_matrix, theta = 25, phi = 35, xlab = 'x1', ylab = 'x2', zlab = 'P(Y = +1 | x)')"
   ]
  },
  {
   "cell_type": "markdown",
   "metadata": {},
   "source": [
    "We can see that the posterior probability for the class $Y = +1$ is low near the origin and increases as we go further away from it. This can be seen also by inspecting the parameters of the classifier. Both class conditional distributions have their expected value at the origin. However, the variance of each feature is larger under the class $Y = +1$ compared to class $Y = -1$ so it is more likely that an observation far from the origin comes from the class $Y = +1$. "
   ]
  },
  {
   "cell_type": "markdown",
   "metadata": {},
   "source": [
    "## 1. c)\n",
    "\n",
    "Both the naive Bayes classifier with Gaussian densities\n",
    "  and QDA are based on the Bayes formula \n",
    "  \n",
    "  $$\n",
    "  p(y\\mid \\boldsymbol{x}) = {p(\\boldsymbol{x} \\mid y) \\ p(y) \\over p(\\boldsymbol{x})},\n",
    "  $$\n",
    "  \n",
    "  and therefore, assuming equivalent class distributions $p(y)$, we\n",
    "  only need to show that for the given class-conditional \n",
    "  distribution implied by a naive Bayes classifier $p(\\boldsymbol{x} \\mid y)$,\n",
    "  we can construct a QDA classifier with the same class-conditional\n",
    "  distribution.\n",
    "\n",
    "  Since the naive Bayes model implies that $X_1$ and $X_2$\n",
    "  are independent given $Y$, we are looking for a bivariate\n",
    "  Gaussian density for the QDA model that is equivalent to the\n",
    "  product of two Gaussian densities. This tells us that the\n",
    "  covariance matrix must be diagonal.\n",
    "  \n",
    "  Furthermore, given that the class-conditional distribution under the\n",
    "  QDA model must match that of the NB model, and in particular, that\n",
    "  the means and variances of $X_1$ and $X_2$ must match those of the\n",
    "  NB model, we arrive at the following QDA parameters:"
   ]
  },
  {
   "cell_type": "markdown",
   "metadata": {},
   "source": [
    "$$\n",
    "\\begin{split}\n",
    "\\boldsymbol{\\mu}_+ &= (\\mu_{+,1}, \\mu_{+,2}) = (0,0), \\\\\n",
    "\\boldsymbol{\\mu}_- &= (\\mu_{-,1}, \\mu_{-,2}) = (0,0),\n",
    "\\end{split}\n",
    "$$\n",
    "and class-conditional covariance matrices\n",
    "$$\n",
    "\\begin{split}\n",
    "\\boldsymbol{\\Sigma}_+ &= \\begin{bmatrix}\n",
    "\\sigma_{+,1}^2 & 0 \\\\\n",
    "0 & \\sigma_{+,2}^2\n",
    "\\end{bmatrix}\n",
    "= \\begin{bmatrix}\n",
    "16 & 0 \\\\\n",
    "0 & 16\n",
    "\\end{bmatrix}, \\\\\n",
    "\\boldsymbol{\\Sigma}_- &= \\begin{bmatrix}\n",
    "\\sigma_{-,1}^2 & 0 \\\\\n",
    "0 & \\sigma_{-,2}^2\n",
    "\\end{bmatrix}\n",
    "= \\begin{bmatrix}\n",
    "1 & 0 \\\\\n",
    "0 & 1\n",
    "\\end{bmatrix}.\n",
    "\\end{split}\n",
    "$$\n",
    "\n",
    "Fix $y \\in \\{-1,+1\\}$ and consider the conditional density $p(\\boldsymbol{x}\\,|\\,Y = y)$ with the naive Bayes assumption. Because $\\boldsymbol{\\Sigma}_y$ is a diagonal matrix, we can use exercise 2. (a) from exercise set 2 to notice that this is a density function of a bivariate normal distribution with expected value $\\boldsymbol{\\mu}_y$ and covariance matrix $\\boldsymbol{\\Sigma}_y$: \n",
    "\n",
    "\\begin{split}\n",
    "p(\\boldsymbol{x}\\,|\\,y) &= \\mathcal{N}(x_1 \\mid \\mu_{y,1},\\sigma_{y,1}^2  )\\mathcal{N}(x_2 \\mid \\mu_{y,2},\\sigma_{y,2}^2 ) \\quad\\quad \\text{Naive assumption} \\\\\n",
    "&= \\frac{1}{\\sqrt{2\\pi\\sigma_{y,1}^2}}\\exp\\left(-\\frac{(x_1-\\mu_{y,1})^2}{2\\sigma_{y,1}^2}\\right)\n",
    "\\frac{1}{\\sqrt{2\\pi\\sigma_{y,2}^2}}\\exp\\left(-\\frac{(x_2-\\mu_{y,2})^2}{2\\sigma_{y,2}^2}\\right) \\\\\n",
    "&= \\frac{1}{2\\pi\\sigma_{y,1}\\sigma_{y,2}}\\exp\\left(-\\frac{1}{2}\\sum_{i=1}^2 \\frac{(x_i - \\mu_{y,i})^2}{\\sigma_{y,i}^2}\\right)\\\\\n",
    "&= \\frac{1}{2\\pi |\\boldsymbol{\\Sigma}_y|^{1/2}}\n",
    "\\exp\\left(-\\frac{1}{2}(\\boldsymbol{x}-\\boldsymbol{\\mu}_y)^T \\boldsymbol{\\Sigma}_y^{-1} (\\boldsymbol{x} - \\boldsymbol{\\mu}_y) \\right) \\quad \\text{Exercises 2,  problem 2.a)}\n",
    "\\end{split}\n",
    "\n",
    "This demonstrates that a Gaussian naive Bayes is a special case of QDA with diagonal covariance matrices (this is a naive Bayes assumption that predictors are independent given a class)."
   ]
  },
  {
   "cell_type": "markdown",
   "metadata": {},
   "source": [
    "## 1. d)"
   ]
  },
  {
   "cell_type": "markdown",
   "metadata": {},
   "source": [
    "We are looking at a classification problem with $p$ predictors and $k$ classes.\n",
    "\n",
    "Consider first the number of parameters required by the naive Bayes classifier. Fix the class $y \\in \\{1, \\ldots , k\\}$. Now the number of parameters required to specify the class conditional distribution $P(\\boldsymbol{X} \\mid Y = y) =  P(X_1 \\mid Y =  y)\\cdot \\ldots \\cdot P(X_p \\mid Y = y)$ is $2p$, since each $P(X_i \\mid Y =  y)$ is univariate Gaussian, thus requiring two parameters (the expected value $\\mu_{y,i}$ and variance $\\sigma_{y,i}^2$). We have $k$ classes, so the total number of parameters required by naive Bayes is $2kp$.\n",
    "\n",
    "In QDA, each class conditional distribution, $P(\\boldsymbol{X} \\mid Y = y)$, is a multivariate normal distribution with expected value $\\boldsymbol{\\mu}_y = (\\mu_{y,i}, \\ldots \\mu_{y,p})$ and a covariance matrix $\\boldsymbol{\\Sigma}_y \\in \\mathbb{R}^{p \\times p}$. The covariance matrix is symmetric, so it has $p(p+1)/2$ free parameters ($p$ variances on the diagonal, and $p(p-1)/2$ covariances). This shows that we need in total $k(p + p(p+1)/2) = k(p^2 + 3p)/2 $ parameters in QDA.\n",
    "\n",
    "In addition to these, both QDA and naive Bayes use $k-1$ free parameters for the class distibution $P(y)$.\n",
    "\n",
    "The dependence of number of the free parameters on the number of predictors is quadratic for QDA, but only linear for naive Bayes. Hence, the general QDA is more prone to overfitting and requires a larger sample size to reach its asymptotic error. "
   ]
  },
  {
   "cell_type": "markdown",
   "metadata": {},
   "source": [
    "# Problem 2\n"
   ]
  },
  {
   "cell_type": "markdown",
   "metadata": {},
   "source": [
    "## 2. a)"
   ]
  },
  {
   "cell_type": "markdown",
   "metadata": {},
   "source": [
    "We use the following function to create the data:"
   ]
  },
  {
   "cell_type": "code",
   "execution_count": 4,
   "metadata": {},
   "outputs": [],
   "source": [
    "generate_data <- function(n_sim) {\n",
    "    \n",
    "    # generate the class labels\n",
    "    Y <- sample(0:2, size = n_sim, replace = TRUE, prob = c(0.4,0.3,0.3))  \n",
    "  \n",
    "    X_combinations <- as.matrix(expand.grid(0:1,0:2)) # create all the possible combinations of X1 and X2\n",
    "    X <- matrix(0, nrow = n_sim, ncol = 2) # initialize a matrix for features values\n",
    "  \n",
    "    for(i in 1:n_sim) {\n",
    "    \n",
    "        # select the right class conditional distribution for X1 and X2 based on the sampled class Y[i]  \n",
    "        prob <- switch (Y[i]+1,\n",
    "                        c(0.2,0.1,0.4,0.2,0.0,0.1),\n",
    "                        c(0.6,0.1,0.1,0.1,0.1,0.0),\n",
    "                        c(0.1,0.4,0.3,0.0,0.2,0.0))\n",
    "      \n",
    "        # use this distribution to sample values for X1 and X2\n",
    "        X[i, ] <- X_combinations[sample(1:6, size = 1, replace = TRUE, prob = prob),]\n",
    "      }\n",
    "        \n",
    "      return(list(X = X, Y = Y))\n",
    "}"
   ]
  },
  {
   "cell_type": "markdown",
   "metadata": {},
   "source": [
    "Now, we generate some data and see if the numbers roughly match the ones suggested in the exercise sheet:"
   ]
  },
  {
   "cell_type": "code",
   "execution_count": 5,
   "metadata": {},
   "outputs": [],
   "source": [
    "set.seed(12345)\n",
    "n <- 100\n",
    "data <- generate_data(n)\n",
    "\n",
    "X <- data$X\n",
    "Y <- data$Y"
   ]
  },
  {
   "cell_type": "markdown",
   "metadata": {},
   "source": [
    "Check how many samples came from the class $Y = 0$"
   ]
  },
  {
   "cell_type": "code",
   "execution_count": 6,
   "metadata": {},
   "outputs": [
    {
     "data": {
      "text/html": [
       "40"
      ],
      "text/latex": [
       "40"
      ],
      "text/markdown": [
       "40"
      ],
      "text/plain": [
       "[1] 40"
      ]
     },
     "metadata": {},
     "output_type": "display_data"
    }
   ],
   "source": [
    "sum(Y == 0)"
   ]
  },
  {
   "cell_type": "markdown",
   "metadata": {},
   "source": [
    "Then, check how many observations there are with $X_1 = 0$ and $X_2 = 0$:"
   ]
  },
  {
   "cell_type": "code",
   "execution_count": 7,
   "metadata": {},
   "outputs": [
    {
     "data": {
      "text/html": [
       "28"
      ],
      "text/latex": [
       "28"
      ],
      "text/markdown": [
       "28"
      ],
      "text/plain": [
       "[1] 28"
      ]
     },
     "metadata": {},
     "output_type": "display_data"
    }
   ],
   "source": [
    "sum(X[,1] == 0 & X[,2] == 0)\n"
   ]
  },
  {
   "cell_type": "markdown",
   "metadata": {},
   "source": [
    "These match closely the suggested values. But why do we expect to see around 29 observations with $X_1 = 0$ and $X_2 = 0$? This follows from the law of total probability:\n",
    "\n",
    "$$\n",
    "\\begin{align*}\n",
    "P(X_1 = 0, \\ X_2 = 0) &= \\sum_{i = 0}^2 P(X_1 = 0, \\ X_2 = 0 \\mid Y = i)P(Y = i) \\\\\n",
    "&= 0.2 \\cdot 0.4 + 0.6 \\cdot 0.3 + 0.1 \\cdot 0.3 \\\\\n",
    "&= 0.29\n",
    "\\end{align*}\n",
    "$$"
   ]
  },
  {
   "cell_type": "markdown",
   "metadata": {},
   "source": [
    "## 2. b)"
   ]
  },
  {
   "cell_type": "markdown",
   "metadata": {},
   "source": [
    "The following function implements the training of a naive Bayes classifier. The returned value is a fitted naive Bayes classifier which is here an instance of class 'nb'. The input parameters are:\n",
    "- class labels 'Y' and the corresponding feature values 'X'\n",
    "- the number of classes 'n_classes'\n",
    "- a vector containing the cardinalities of the features 'n_class_x'\n",
    "- the smoothing parameter 'a' (corresponding to $\\alpha$ in the exercise sheet)"
   ]
  },
  {
   "cell_type": "code",
   "execution_count": 8,
   "metadata": {},
   "outputs": [],
   "source": [
    "nb <- function(Y, X, n_class = 3, n_class_x = c(2,3), a = 1) {\n",
    "    n <- length(Y) # number of samples in the training data\n",
    "    \n",
    "    # initialize a list to store the estimated class conditional probabilities\n",
    "    likelihood <- vector('list', length = n_class)\n",
    "  \n",
    "    # the same for the class probabilities  \n",
    "    prior <- numeric(n_class)\n",
    "    \n",
    "\n",
    "    for(c in 0:(n_class-1)) {\n",
    "    \n",
    "        n_c <- sum(Y == c) # the number of observations with Y = c \n",
    "        prior[c+1] <- (n_c + a) / (n + n_class * a) # the formula in the exercise sheet\n",
    "        \n",
    "        # consider each feature separately\n",
    "        for(i in seq_along(n_class_x)) {\n",
    "            \n",
    "            likelihood[[c+1]][[i]] <- numeric(n_class_x[i]) # vector whose length is the cardinality of X_i            \n",
    "            \n",
    "            # loop over possible values of X_i\n",
    "            for(j in 0:(n_class_x[i]-1)) {\n",
    "                \n",
    "                n_cj <- sum(Y == c & X[ ,i] == j) # count how many times we observe X_i = j when Y = c\n",
    "                likelihood[[c+1]][[i]][j+1] <- (n_cj + a) / (n_c + n_class_x[i] * a) # estimated probability    \n",
    "            }\n",
    "        }\n",
    "    }\n",
    "    \n",
    "    ret <- list(prior = prior, likelihood = likelihood, n_class = n_class, n_class_x = n_class_x)\n",
    "    class(ret) <- 'nb' # define that the list 'ret' belongs to class 'nb' \n",
    "    \n",
    "    return(ret)\n",
    "}"
   ]
  },
  {
   "cell_type": "markdown",
   "metadata": {},
   "source": [
    "We can now apply our classifier to data generated in part a)"
   ]
  },
  {
   "cell_type": "code",
   "execution_count": 9,
   "metadata": {},
   "outputs": [],
   "source": [
    "a <- 1 # laplace smoothing\n",
    "trained_nb <- nb(Y,X, a = 1)"
   ]
  },
  {
   "cell_type": "markdown",
   "metadata": {},
   "source": [
    "The estimated distribution over classes, with $\\alpha = 1$:"
   ]
  },
  {
   "cell_type": "code",
   "execution_count": 10,
   "metadata": {},
   "outputs": [
    {
     "data": {
      "text/html": [
       "<ol class=list-inline>\n",
       "\t<li>0.398058252427184</li>\n",
       "\t<li>0.349514563106796</li>\n",
       "\t<li>0.252427184466019</li>\n",
       "</ol>\n"
      ],
      "text/latex": [
       "\\begin{enumerate*}\n",
       "\\item 0.398058252427184\n",
       "\\item 0.349514563106796\n",
       "\\item 0.252427184466019\n",
       "\\end{enumerate*}\n"
      ],
      "text/markdown": [
       "1. 0.398058252427184\n",
       "2. 0.349514563106796\n",
       "3. 0.252427184466019\n",
       "\n",
       "\n"
      ],
      "text/plain": [
       "[1] 0.3980583 0.3495146 0.2524272"
      ]
     },
     "metadata": {},
     "output_type": "display_data"
    }
   ],
   "source": [
    "trained_nb$prior"
   ]
  },
  {
   "cell_type": "markdown",
   "metadata": {},
   "source": [
    "Print the estimated conditional probability distribution $P(X_i \\mid Y = c)$"
   ]
  },
  {
   "cell_type": "code",
   "execution_count": 11,
   "metadata": {},
   "outputs": [
    {
     "data": {
      "text/html": [
       "<ol class=list-inline>\n",
       "\t<li>0.325581395348837</li>\n",
       "\t<li>0.511627906976744</li>\n",
       "\t<li>0.162790697674419</li>\n",
       "</ol>\n"
      ],
      "text/latex": [
       "\\begin{enumerate*}\n",
       "\\item 0.325581395348837\n",
       "\\item 0.511627906976744\n",
       "\\item 0.162790697674419\n",
       "\\end{enumerate*}\n"
      ],
      "text/markdown": [
       "1. 0.325581395348837\n",
       "2. 0.511627906976744\n",
       "3. 0.162790697674419\n",
       "\n",
       "\n"
      ],
      "text/plain": [
       "[1] 0.3255814 0.5116279 0.1627907"
      ]
     },
     "metadata": {},
     "output_type": "display_data"
    },
    {
     "data": {
      "text/html": [
       "1"
      ],
      "text/latex": [
       "1"
      ],
      "text/markdown": [
       "1"
      ],
      "text/plain": [
       "[1] 1"
      ]
     },
     "metadata": {},
     "output_type": "display_data"
    }
   ],
   "source": [
    "c <- 0\n",
    "i <- 2\n",
    "\n",
    "trained_nb$likelihood[[c + 1]][[i]]\n",
    "sum(trained_nb$likelihood[[c + 1]][[i]])"
   ]
  },
  {
   "cell_type": "markdown",
   "metadata": {},
   "source": [
    "## 2. c)"
   ]
  },
  {
   "cell_type": "markdown",
   "metadata": {},
   "source": [
    "We start by defining a prediction function for our naive Bayes classifier. Inputs are: \n",
    "- 'nbfit', a fitted naive Bayes model \n",
    "- 'X' data matrix containing the observations to be classified\n",
    "- 'probablities' boolean determining the output type. If 'TRUE', posterior probabilities are returned, and if 'FALSE', the function returns the class label with the highest posterior probability. "
   ]
  },
  {
   "cell_type": "code",
   "execution_count": 12,
   "metadata": {},
   "outputs": [],
   "source": [
    "predict.nb <- function(nbfit, X, probabilities = FALSE) {\n",
    "  n <- nrow(X)\n",
    "  prob <- matrix(0, nrow = n, ncol = nbfit$n_class) \n",
    "    \n",
    "  for(i in 1:n) # compute joint probabilities p(x,y) = p(x|y)p(y)\n",
    "    for(c in 1:nbfit$n_class) {\n",
    "      prob[i,c] <- nbfit$prior[c] # prior p(y)      \n",
    "      for(j in seq_along(nbfit$n_class_x))\n",
    "        prob[i,c] <- prob[i,c] * nbfit$likelihood[[c]][[j]][X[i,j] + 1] #likelihood p(x_1| y)p(x_2|y) = p(x|y)\n",
    "    }\n",
    "  prob <- prob / rowSums(prob)      # normalize into conditional probabilities p(y|x) \n",
    "  pred <- max.col(prob) - 1        # predict class y as argmax p(y|x)\n",
    "  if(probabilities) prob else pred             \n",
    "}      "
   ]
  },
  {
   "cell_type": "markdown",
   "metadata": {},
   "source": [
    "Create a test set of size $10 000$ and compute the test error:"
   ]
  },
  {
   "cell_type": "code",
   "execution_count": 13,
   "metadata": {},
   "outputs": [
    {
     "name": "stdout",
     "output_type": "stream",
     "text": [
      "\n",
      "Test error: 0.4409"
     ]
    }
   ],
   "source": [
    "set.seed(1231)\n",
    "test_data <- generate_data(10000)\n",
    "test_Y <- test_data$Y\n",
    "\n",
    "test_df <- data.frame(Y=test_Y,X1 = factor(test_data$X[,1]),X2 = factor(test_data$X[,2])) # this is used later in part d)\n",
    "\n",
    "y_hat <- predict(trained_nb,test_data$X)\n",
    "\n",
    "cat(\"\\nTest error:\",sum(y_hat != test_Y)/length(test_Y))"
   ]
  },
  {
   "cell_type": "markdown",
   "metadata": {},
   "source": [
    "Next, we consider different training set sizes and look how this affects the test error. We consider naive Bayes classifiers with different smoothing parameters and multinomial logistic regression (see part d)  "
   ]
  },
  {
   "cell_type": "code",
   "execution_count": 14,
   "metadata": {},
   "outputs": [],
   "source": [
    "set.seed(12222)\n",
    "\n",
    "# library containing implementation of multinomial logistic regression\n",
    "library('nnet')\n",
    "\n",
    "train_sizes <- 100*2**(-2:6) # considered training sample sizes\n",
    "\n",
    "results <- data.frame(matrix(0,nrow = length(train_sizes), ncol = 4)) # store results\n",
    "rownames(results) <- train_sizes\n",
    "colnames(results) <- c(\"NB_ML\",\"NB_Lap\",\"NB_KT\",\"LogReg\")\n",
    "\n",
    "alphas <- c(0,1,1/2) # smoothing parameters\n",
    "\n",
    "for(jj in seq_along(train_sizes)) {\n",
    "    \n",
    "    # create the data\n",
    "    train_data <- generate_data(train_sizes[jj])\n",
    "    X <- train_data$X\n",
    "    Y <- train_data$Y\n",
    "    \n",
    "    # train & predict for the naive Bayes classifiers with different smoothing parameters\n",
    "    for(ii in seq_along(alphas)) {\n",
    "        \n",
    "            nb_fit <- nb(Y,X,a = alphas[ii])          \n",
    "            y_hat <- predict(nb_fit,test_data$X)\n",
    "            results[jj,ii] <- sum(test_data$Y != y_hat) \n",
    "            \n",
    "    }\n",
    "    \n",
    "    # for the logistic regression, we need to put the data into data frame with predictors defined as factors\n",
    "    train_df <- data.frame(Y = train_data$Y, X1 = factor(train_data$X[ ,1]), X2 = factor(train_data$X[ ,2]))\n",
    "    \n",
    "    # trace = FALSE, convergence information won't be printed\n",
    "    logistic_fit <- multinom(Y ~ X1 + X2, data = train_df, trace = FALSE) \n",
    "    y_hat <- predict(logistic_fit,newdata = test_df)\n",
    "    results[jj,4] <- sum(test_data$Y != y_hat)     \n",
    "    \n",
    "}\n",
    "\n",
    "results <- results/length(test_data$Y)\n"
   ]
  },
  {
   "cell_type": "markdown",
   "metadata": {},
   "source": [
    "Plot the results:"
   ]
  },
  {
   "cell_type": "code",
   "execution_count": 15,
   "metadata": {},
   "outputs": [
    {
     "data": {
      "image/png": "[encoded data removed]",
      "text/plain": [
       "plot without title"
      ]
     },
     "metadata": {},
     "output_type": "display_data"
    }
   ],
   "source": [
    "matplot(results,\n",
    "        type = 'l',\n",
    "        col = c('blue', 'red', 'green', 'black'), \n",
    "        lwd = c(4,4,4,3), \n",
    "        lty = c(1,2,3,4),\n",
    "        ylab = 'test error', \n",
    "        ylim = c(.3, .7),\n",
    "        xaxt = \"n\")\n",
    "\n",
    "axis(1, at=1:nrow(results), labels=rownames(results))\n",
    "\n",
    "legend(\"topright\", \n",
    "       legend = colnames(results),\n",
    "       inset=.05, \n",
    "       col = c('blue', 'red', 'green', 'black'), \n",
    "       lwd = c(4,4,4,3), \n",
    "       lty = c(1,2,3,4))"
   ]
  },
  {
   "cell_type": "markdown",
   "metadata": {},
   "source": [
    "We can see that here smoothing does not seem to have any effect on the predicted class labels. However, the estimated posterior probabilities would differ (especially) on small sample sizes. Naive Bayes classifiers seem to converge towards a test error of $0.4$."
   ]
  },
  {
   "cell_type": "markdown",
   "metadata": {},
   "source": [
    "## 2. d)"
   ]
  },
  {
   "cell_type": "markdown",
   "metadata": {},
   "source": [
    "We can see that the logistic regression performs quite similarly to naive Bayes and it seems to converge to the same asymptotic value. \n",
    "\n",
    "To check if the naive assumption holds in the generating distribution, we need to recall the definition of conditional independence. Assume that $X_1$, $X_2$ and $Y$ are discrete random variables. We say that $X_1$ is conditionally indepedent of $X_2$ given $Y$ if, and only if\n",
    "\n",
    "$$\n",
    "P(X_1 = x_1, \\ X_2 = x_2 \\mid Y = y) = P(X_1 = x_1 \\mid Y = y)\\cdot P(X_2 = x_2 \\mid Y = y)\n",
    "$$\n",
    "\n",
    "holds for every $x_1,x_2$ and $y$ (such that $P(Y = y) > 0$). Let's check if this holds here. Consider the distribution $P(X_1,X_2 \\mid Y = 2)$. We can observe, that:\n",
    "\n",
    "$$\n",
    "P(X_1 =  0,X_2 = 0 \\mid Y = 2) = 0.1\n",
    "$$\n",
    "\n",
    "but\n",
    "\n",
    "$$\n",
    "P(X_1 = 0 \\mid Y = 2)\\cdot P(X_2 = 0 \\mid Y = 2) = (0.1 + 0.2 + 0.3)\\cdot(0.1 + 0.4) = 0.3 \n",
    "$$\n",
    "\n",
    "This implies that there is dependence between the features (at least when $Y = 2$), so the naive assumption does not hold in the generating distribution. This hints that we should be able to get a lower asymptotic test error if we used a classifier that takes into account the conditional dependencies between the features. Logistic regression does not either explicitly model these dependencies (the relationship between the log-odds and predictors is additive, that is, the effect of changing the value of predictor $X_j$ on the log-odds is independent of the values of the other predictors, see book Chap. 3.3.2). This explains the similar test error on large sample sizes in this exercise."
   ]
  },
  {
   "cell_type": "markdown",
   "metadata": {},
   "source": [
    "## Problem 3"
   ]
  },
  {
   "cell_type": "markdown",
   "metadata": {},
   "source": [
    "## 3. a)"
   ]
  },
  {
   "cell_type": "markdown",
   "metadata": {},
   "source": [
    "In the figure below, the decision tree is grown on the penalty data set. First the data is split into upper half $R_1$ and lower half $\\{R_2, \\dots ,R_6\\}$, then the lower half is split into a left corner $R_2$ and the rest $\\{R_3, \\dots , R_6\\}.$ The numbers in each cell indicate the amount of saved shots (darker green) and the scored ones (lighter green).\n",
    "\n",
    "![](penalties3.png)\n"
   ]
  },
  {
   "cell_type": "markdown",
   "metadata": {},
   "source": [
    "## 3. b)"
   ]
  },
  {
   "cell_type": "markdown",
   "metadata": {},
   "source": [
    "The gains of the splits using misclassification error as impurity measure are tabulated below. \n",
    "\n",
    "\n",
    "$$\n",
    "\\begin{matrix}\n",
    "\\text{Split} & Q(D_1) & Q(D_2) & Q(D) & gain(D_1,D_2)\\\\\n",
    "R_1 & 3/52 & 35/116 & 38/168 & 0 \\\\\n",
    "R_2 & 0/21 & 35/95 & 35/116 & 0\\\\\n",
    "R_3 & 6/27 & 29/68 & 35/95 & 0\\\\\n",
    "R_4 & 10/26 & 19/42 & 29/68 & 0\\\\\n",
    "R_5 & 3/15 & 11/27 & 19/42 & 0.119 \\\\\n",
    "\\end{matrix}\n",
    "$$\n",
    "\n",
    "Because the first four splits do not affect the classification in any way (shots in every partition $R_1, \\dots, R_5$) are classified as goals, they do not lead to any improvement in misclassification error. However, in $R_6$ the majority of the shots were saved, so in it the shots are classified as saved. Hence, the last split improves the misclassification error, and so also the gain.\n",
    "\n",
    "This demonstrates why, when growing the decision tree automatically, the quality of the splits is usually measured using ''soft'' measures such as cross-entropy or Gini index. "
   ]
  }
 ],
 "metadata": {
  "anaconda-cloud": {},
  "kernelspec": {
   "display_name": "R",
   "language": "R",
   "name": "ir"
  },
  "language_info": {
   "codemirror_mode": "r",
   "file_extension": ".r",
   "mimetype": "text/x-r-source",
   "name": "R",
   "pygments_lexer": "r",
   "version": "3.3.1"
  }
 },
 "nbformat": 4,
 "nbformat_minor": 1
}
